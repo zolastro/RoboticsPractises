{
 "cells": [
  {
   "cell_type": "code",
   "execution_count": 1,
   "metadata": {},
   "outputs": [],
   "source": [
    "import numpy as np\n",
    "import ipdb # for debugging\n",
    "from matplotlib import pyplot as plt\n",
    "from matplotlib.patches import Ellipse\n"
   ]
  },
  {
   "cell_type": "code",
   "execution_count": 81,
   "metadata": {},
   "outputs": [],
   "source": [
    "def plot_ellipse(mean, cov_matrix,color, axes, scale_factor=1):\n",
    "    eH = np.array(None)\n",
    "    cov_matrix = cov_matrix[:2,:2]\n",
    "    mean = mean[0:2]\n",
    "    if(~any(np.diag(cov_matrix)==0)):\n",
    "        eig_values, eig_vectors = np.linalg.eig(cov_matrix)\n",
    "        ellipse = Ellipse(xy=mean, width=eig_values[0]*scale_factor, height=eig_values[1]*scale_factor,\n",
    "                         angle=np.rad2deg(np.arccos(eig_vectors[0,0])), color='black')\n",
    "        axes.add_artist(ellipse)\n",
    "        ellipse.set_clip_box(axes.bbox)\n",
    "        ellipse.set_facecolor('None')\n",
    "        ellipse.set_edgecolor(color)"
   ]
  },
  {
   "cell_type": "code",
   "execution_count": 82,
   "metadata": {},
   "outputs": [],
   "source": [
    "def draw_robot(Xr, col):\n",
    "    p = 0.02\n",
    "    a = np.array([-2, 10, -2, 10])\n",
    "    l1 = (a[1] - a[0]) * p\n",
    "    l2 = (a[3] - a[2]) * p\n",
    "    P = np.array([[-1, 1, 0, -1], [-1, -1, 3, -1]])\n",
    "    theta = Xr[2] - np.pi/2\n",
    "    c = np.cos(theta)[0]\n",
    "    s = np.sin(theta)[0]\n",
    "    rot_mat = np.array([[c, -s], [s, c]])\n",
    "    P = np.matmul(rot_mat, P)\n",
    "    P[0] = P[0] * l1 + Xr[0]\n",
    "    P[1] = P[1] * l2 + Xr[1]\n",
    "    plt.plot(P[0,:],P[1,:], col, linewidth=0.1);\n",
    "    plt.plot(Xr[0], Xr[1], '+' + col);\n",
    "    "
   ]
  },
  {
   "cell_type": "code",
   "execution_count": 67,
   "metadata": {},
   "outputs": [],
   "source": [
    "def differential_motion_velocity():\n",
    "    dT = 0.1\n",
    "    v = 1\n",
    "    l = 0.5\n",
    "    sigmaV = 0.1\n",
    "    sigmaW = 0.1\n",
    "    nSteps = 400\n",
    "    x = np.array([[0],[0],[0]])\n",
    "    xtrue = x;\n",
    "    P = np.diag([0.2, 0.4, 0])\n",
    "    Q = np.diag([sigmaV**2, sigmaW**2])\n",
    "    \n",
    "    fig = plt.figure(figsize=(20,10))\n",
    "    axes = fig.add_subplot(231)\n",
    "    plt.title = 'Differential Drive model'\n",
    "    plt.xlim = 50\n",
    "    for k in range(nSteps):\n",
    "        w = np.pi / 10 * np.sin(4*np.pi*k/nSteps)\n",
    "        u = np.array([[v], [w]])\n",
    "        \n",
    "        sx = np.sin(x[2])[0]\n",
    "        cx = np.cos(x[2])[0]\n",
    "        si = np.sin(u[1]*dT)[0]\n",
    "        ci = np.cos(u[1]*dT)[0]\n",
    "        \n",
    "        \n",
    "        if (u[1] == 0):\n",
    "            jac_fx = np.array([[1, 0, -v*dT*np.sin(x[2])[0]],\n",
    "                              [0, 1, v*dT*np.cos(x[2])[0]],\n",
    "                              [0, 0, 1]])\n",
    "            jac_fu = np.array([[dT*np.cos(x[2])[0], dT*np.sin(x[2])[0], 0],\n",
    "                              [0, 0, 0]]).T\n",
    "        else:\n",
    "            R = u[0]/u[1]\n",
    "            jac_fx = np.array([[1, 0, R*(-sx*si - cx*(1-ci))],\n",
    "                              [0, 1, R*(cx*si - sx*(1-ci))],\n",
    "                              [0, 0, 1]])\n",
    "            _jac_fu1 = np.array([[cx*si - sx*(1-ci), R*(cx*ci - sx*si)],\n",
    "                                 [sx*si + cx*(1-ci), R*(sx*ci - cx*si)],\n",
    "                                  [0, 1]])\n",
    "            _jac_fu2 = np.array([[1/u[1, 0], -u[0, 0]/(u[1, 0]**2)],\n",
    "                                 [0, dT]])\n",
    "            _jac_fu = np.matmul(_jac_fu1, _jac_fu2)\n",
    "            \n",
    "        _P1 = np.matmul(np.matmul(jac_fx,P),jac_fx.T)\n",
    "        _P2 = np.matmul(np.matmul(jac_fu, Q), jac_fu.T)\n",
    "        P =  _P1 + _P2\n",
    "        xtrue = differential_model(xtrue,u+np.array([[sigmaV], [sigmaW]])*np.random.randn(2,1), dT);\n",
    "        x = differential_model(x,u,dT);    \n",
    "        if(np.mod(k-1,20) == 0):\n",
    "            draw_robot(x,'r');  \n",
    "            plot_ellipse(x,P,'red', axes, 10);\n",
    "            plt.plot(xtrue[0],xtrue[1],'ko');"
   ]
  },
  {
   "cell_type": "code",
   "execution_count": 72,
   "metadata": {},
   "outputs": [],
   "source": [
    "def differential_model(x, u, dT): \n",
    "    y = np.zeros([3, 1])\n",
    "    if(u[1]== 0):\n",
    "        y[0,0] = x[0] + u[0]*dT*np.cos(x[2])[0]\n",
    "        y[1,0] = x[1] + u[0]*dT*np.sin(x[2])[0]\n",
    "        y[2,0] = x[2];\n",
    "    else:\n",
    "        R=u[0]/u[1]\n",
    "        y[0,0] = x[0] - R*np.sin(x[2])[0] + R*np.sin(x[2]+u[1]*dT)[0]\n",
    "        y[1,0] = x[1] + R*np.cos(x[2])[0] - R*np.cos(x[2]+u[1]*dT)[0]\n",
    "        y[2,0] = x[2] + u[1]*dT;\n",
    "    return y"
   ]
  },
  {
   "cell_type": "code",
   "execution_count": 80,
   "metadata": {},
   "outputs": [
    {
     "name": "stderr",
     "output_type": "stream",
     "text": [
      "/usr/local/lib/python3.6/dist-packages/ipykernel_launcher.py:20: RuntimeWarning: divide by zero encountered in true_divide\n"
     ]
    },
    {
     "data": {
      "image/png": "[encoded data removed]",
      "text/plain": [
       "<Figure size 1440x720 with 1 Axes>"
      ]
     },
     "metadata": {
      "needs_background": "light"
     },
     "output_type": "display_data"
    }
   ],
   "source": [
    "differential_motion_velocity()"
   ]
  },
  {
   "cell_type": "code",
   "execution_count": null,
   "metadata": {},
   "outputs": [],
   "source": []
  },
  {
   "cell_type": "code",
   "execution_count": null,
   "metadata": {},
   "outputs": [],
   "source": []
  }
 ],
 "metadata": {
  "kernelspec": {
   "display_name": "Python 3",
   "language": "python",
   "name": "python3"
  },
  "language_info": {
   "codemirror_mode": {
    "name": "ipython",
    "version": 3
   },
   "file_extension": ".py",
   "mimetype": "text/x-python",
   "name": "python",
   "nbconvert_exporter": "python",
   "pygments_lexer": "ipython3",
   "version": "3.6.6"
  }
 },
 "nbformat": 4,
 "nbformat_minor": 2
}

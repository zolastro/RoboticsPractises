{
 "cells": [
  {
   "cell_type": "code",
   "execution_count": 1,
   "metadata": {},
   "outputs": [],
   "source": [
    "import numpy as np\n",
    "import ipdb # for debugging\n",
    "from matplotlib import pyplot as plt"
   ]
  },
  {
   "cell_type": "code",
   "execution_count": 2,
   "metadata": {},
   "outputs": [],
   "source": [
    "def j1(x1, x2):\n",
    "    s1 = np.sin(x1[2])\n",
    "    c1 = np.cos(x1[2])\n",
    "\n",
    "    return np.arrray([[1, 0, -x2[0] * s1 - x2[1] * c1], [0, 1, x2[0] * c1 - x2[1] * s1], [0, 0, 1]])\n",
    "\n",
    "def j2(x1, x2):\n",
    "    s1 = np.sin(x1[2])\n",
    "    c1 = np.cos(x1[2])\n",
    "\n",
    "    return np.array([[c1, -s1, 0], [s1, c1, 0], [0, 0, 1]])\n",
    "\n",
    "def jab(tab):\n",
    "    if len(tab) != 3:\n",
    "        raise Exception('tab is not a transformation')\n",
    "    s = np.sin(tab[2])\n",
    "    c = np.cos(tab[2])\n",
    "    return np.array([[c, -s, tab[1]], [s, c, -tab[0]], [0, 0, 1]])"
   ]
  },
  {
   "cell_type": "code",
   "execution_count": 3,
   "metadata": {},
   "outputs": [],
   "source": [
    "def tinv(tab):\n",
    "    tba = np.zeros(tab.shape)\n",
    "    for t in range(0, tab.shape[0]):\n",
    "        tab[t:t+3] = tinv1(tab[t:t+3])\n",
    "    return tba\n",
    "\n",
    "def tinv1(tab):\n",
    "    s = np.sin(tab[2])[0]\n",
    "    c = np.cos(tab[2])[0]\n",
    "    tba = np.array([[-tab(0)*c - tab(1)*s]\n",
    "          [[tab(0)*s - tab(1)*c]]\n",
    "          [-tab (2)]])\n",
    "    return tba"
   ]
  },
  {
   "cell_type": "code",
   "execution_count": 4,
   "metadata": {},
   "outputs": [],
   "source": [
    "def angle_wrap(a):\n",
    "    if a > np.pi:\n",
    "        return a-2*np.pi\n",
    "    elif a < -np.pi:\n",
    "        return a + 2*np.pi\n",
    "    else:\n",
    "        return a\n"
   ]
  },
  {
   "cell_type": "code",
   "execution_count": 5,
   "metadata": {},
   "outputs": [],
   "source": [
    "def tcomp(tab, tbc):\n",
    "    if len(tab) != 3:\n",
    "        raise Exception('tab is not a transformation')\n",
    "\n",
    "    if len(tbc) != 3:\n",
    "        raise Exception('tab is not a transformation')\n",
    "\n",
    "    ang = tab[2] + tbc[2]\n",
    "\n",
    "    ang = angle_wrap(ang)\n",
    "\n",
    "    s = np.sin(tab[2])[0]\n",
    "    c = np.cos(tab[2])[0]\n",
    "    \n",
    "    xy = tab[:2] + np.matmul(np.array([[c, -s], [s, c]]),tbc[:2])\n",
    "    tac = np.array([xy[0], xy[1], ang])\n",
    "    \n",
    "    return tac"
   ]
  },
  {
   "cell_type": "code",
   "execution_count": 6,
   "metadata": {},
   "outputs": [],
   "source": [
    "def plot_ellipse(x, P, nSigma):\n",
    "    eH = []\n",
    "    P = P[0:2, 0:2]\n",
    "    x = x[0:2]\n",
    "    if (not any(np.diag(P) == 0)):\n",
    "        D, V = np.linalg.eig(P)\n",
    "        y = nSigma*np.array([[np.cos(np.arange(0,2*pi, 0.1))] [np.sin(np.arange(0,2*pi, 0.1))]]);\n",
    "        axes = V*np.sqrt(D)\n",
    "        el = axes*y\n",
    "        el = [el, el[:, 0]]\n",
    "        el = el+np.tile(x, [1, el.shape(1)])\n",
    "        eH = plt.plot(el[0, :], el[1, :]);\n",
    "        return eH"
   ]
  },
  {
   "cell_type": "code",
   "execution_count": 7,
   "metadata": {},
   "outputs": [],
   "source": [
    "def draw_robot(Xr, col):\n",
    "    p = 0.02\n",
    "    a = np.array([-2, 10, -2, 10])\n",
    "    l1 = (a[1] - a[0]) * p\n",
    "    l2 = (a[3] - a[2]) * p\n",
    "    P = np.array([[-1, 1, 0, -1], [-1, -1, 3, -1]])\n",
    "    theta = Xr[2] - np.pi/2\n",
    "    c = np.cos(theta)[0]\n",
    "    s = np.sin(theta)[0]\n",
    "    rot_mat = np.array([[c, -s], [s, c]])\n",
    "    P = np.matmul(rot_mat, P)\n",
    "    P[0] = P[0] * l1 + Xr[0]\n",
    "    P[1] = P[1] * l2 + Xr[1]\n",
    "    plt.plot(P[0,:],P[1,:], col, linewidth=0.1);\n",
    "    plt.plot(Xr[0], Xr[1], '+' + col);\n",
    "    "
   ]
  },
  {
   "cell_type": "code",
   "execution_count": 18,
   "metadata": {
    "scrolled": false
   },
   "outputs": [],
   "source": [
    "def circle_path(color, fig):\n",
    "    nSteps = 16\n",
    "    t = np.array([[2], [0]])\n",
    "    ang = -np.pi/2\n",
    "    pose_inc_straight_line = np.array([[2], [0], [0]])\n",
    "    pose_inc_straight_line_and_rotation = np.array([[2],[0],[ang]])\n",
    "    pose = np.array([[0],[0],[np.pi/2]])\n",
    "\n",
    "    fig.suptitle('Pose compositions', fontsize=16)\n",
    "\n",
    "\n",
    "    draw_robot(pose, color)\n",
    "\n",
    "    for k in range(1, nSteps):\n",
    "        if np.mod(k, 4) == 0:\n",
    "            pose = tcomp(pose, pose_inc_straight_line_and_rotation)\n",
    "        else:\n",
    "            pose = tcomp(pose, pose_inc_straight_line);\n",
    "        draw_robot(pose,color);\n",
    "\n",
    "    "
   ]
  },
  {
   "cell_type": "code",
   "execution_count": 20,
   "metadata": {},
   "outputs": [],
   "source": [
    "def get_noise(sigma):\n",
    "    noise_x = np.random.normal(0, sigma[0], size=1)\n",
    "    noise_y = np.random.normal(0, sigma[1], size=1)\n",
    "    noise_t = np.random.normal(0, sigma[2]*(np.pi/2), size=1)\n",
    "    return np.array([[noise_x], [noise_y], [noise_t]])"
   ]
  },
  {
   "cell_type": "code",
   "execution_count": 13,
   "metadata": {},
   "outputs": [],
   "source": [
    "def circle_path_noisy(sigma, color, fig):\n",
    "    nSteps = 16\n",
    "    t = np.array([[2], [0]])\n",
    "    ang = -np.pi/2\n",
    "    pose_inc_straight_line = np.array([[2] + noise_x, [0] + noise_y, [0] + noise_t])\n",
    "    pose_inc_straight_line_and_rotation = np.array([[2] + noise_x,[0]+noise_y,[ang]+noise_t])\n",
    "    pose = np.array([[0],[0],[np.pi/2]])\n",
    "    \n",
    "    fig.suptitle('Pose compositions', fontsize=16)\n",
    "\n",
    "\n",
    "    draw_robot(pose, color)\n",
    "\n",
    "    for k in range(1, nSteps):\n",
    "        noise_x = np.random.normal(0, 0.08, size=1)\n",
    "        noise_y = np.random.normal(0, 0.08, size=1)\n",
    "        noise_t = np.random.normal(0, 0.02, size=1)\n",
    "        pose_inc_straight_line = np.array([[2] + noise_x, [0] + noise_y, [0] + noise_t])\n",
    "        pose_inc_straight_line_and_rotation = np.array([[2] + noise_x,[0]+noise_y,[ang]+noise_t])\n",
    "        if np.mod(k, 4) == 0:\n",
    "            pose = tcomp(pose, pose_inc_straight_line_and_rotation)\n",
    "        else:\n",
    "            pose = tcomp(pose, pose_inc_straight_line);\n",
    "        draw_robot(pose,color);\n",
    "    "
   ]
  },
  {
   "cell_type": "code",
   "execution_count": 17,
   "metadata": {},
   "outputs": [
    {
     "data": {
      "image/png": "[encoded data removed]",
      "text/plain": [
       "<Figure size 432x288 with 1 Axes>"
      ]
     },
     "metadata": {
      "needs_background": "light"
     },
     "output_type": "display_data"
    }
   ],
   "source": [
    "fig = plt.figure(0)\n",
    "circle_path('r', fig)\n",
    "circle_path_noisy('b', fig)"
   ]
  },
  {
   "cell_type": "code",
   "execution_count": null,
   "metadata": {},
   "outputs": [],
   "source": []
  }
 ],
 "metadata": {
  "kernelspec": {
   "display_name": "Python 3",
   "language": "python",
   "name": "python3"
  },
  "language_info": {
   "codemirror_mode": {
    "name": "ipython",
    "version": 3
   },
   "file_extension": ".py",
   "mimetype": "text/x-python",
   "name": "python",
   "nbconvert_exporter": "python",
   "pygments_lexer": "ipython3",
   "version": "3.6.6"
  }
 },
 "nbformat": 4,
 "nbformat_minor": 2
}

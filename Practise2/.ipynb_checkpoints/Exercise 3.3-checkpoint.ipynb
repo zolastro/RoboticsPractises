{
 "cells": [
  {
   "cell_type": "code",
   "execution_count": 23,
   "metadata": {},
   "outputs": [],
   "source": [
    "import numpy as np\n",
    "import ipdb # for debugging\n",
    "from matplotlib import pyplot as plt\n",
    "from matplotlib.patches import Ellipse"
   ]
  },
  {
   "cell_type": "code",
   "execution_count": 24,
   "metadata": {},
   "outputs": [],
   "source": [
    "def j1(x1, x2):\n",
    "    s1 = np.sin(x1[2])\n",
    "    c1 = np.cos(x1[2])\n",
    "\n",
    "    return np.arrray([[1, 0, -x2[0] * s1 - x2[1] * c1], [0, 1, x2[0] * c1 - x2[1] * s1], [0, 0, 1]])\n",
    "\n",
    "def j2(x1, x2):\n",
    "    s1 = np.sin(x1[2])\n",
    "    c1 = np.cos(x1[2])\n",
    "\n",
    "    return np.array([[c1, -s1, 0], [s1, c1, 0], [0, 0, 1]])\n",
    "\n",
    "def jab(tab):\n",
    "    if len(tab) != 3:\n",
    "        raise Exception('tab is not a transformation')\n",
    "    s = np.sin(tab[2])\n",
    "    c = np.cos(tab[2])\n",
    "    return np.array([[c, -s, tab[1]], [s, c, -tab[0]], [0, 0, 1]])"
   ]
  },
  {
   "cell_type": "code",
   "execution_count": 25,
   "metadata": {},
   "outputs": [],
   "source": [
    "def tinv(tab):\n",
    "    tba = np.zeros(tab.shape)\n",
    "    for t in range(0, tab.shape[0]):\n",
    "        tab[t:t+3] = tinv1(tab[t:t+3])\n",
    "    return tba\n",
    "\n",
    "def tinv1(tab):\n",
    "    s = np.sin(tab[2])[0]\n",
    "    c = np.cos(tab[2])[0]\n",
    "    tba = np.array([[-tab(0)*c - tab(1)*s]\n",
    "          [[tab(0)*s - tab(1)*c]]\n",
    "          [-tab (2)]])\n",
    "    return tba"
   ]
  },
  {
   "cell_type": "code",
   "execution_count": 26,
   "metadata": {},
   "outputs": [],
   "source": [
    "def angle_wrap(a):\n",
    "    if a > np.pi:\n",
    "        return a-2*np.pi\n",
    "    elif a < -np.pi:\n",
    "        return a + 2*np.pi\n",
    "    else:\n",
    "        return a\n"
   ]
  },
  {
   "cell_type": "code",
   "execution_count": 27,
   "metadata": {},
   "outputs": [],
   "source": [
    "def tcomp(tab, tbc):\n",
    "    if len(tab) != 3:\n",
    "        raise Exception('tab is not a transformation')\n",
    "\n",
    "    if len(tbc) != 3:\n",
    "        raise Exception('tab is not a transformation')\n",
    "\n",
    "    ang = tab[2] + tbc[2]\n",
    "\n",
    "    ang = angle_wrap(ang)\n",
    "\n",
    "    s = np.sin(tab[2])[0]\n",
    "    c = np.cos(tab[2])[0]\n",
    "    \n",
    "    xy = tab[:2] + np.matmul(np.array([[c, -s], [s, c]]),tbc[:2])\n",
    "    tac = np.array([xy[0], xy[1], ang])\n",
    "    \n",
    "    return tac"
   ]
  },
  {
   "cell_type": "code",
   "execution_count": null,
   "metadata": {},
   "outputs": [],
   "source": []
  },
  {
   "cell_type": "code",
   "execution_count": 2,
   "metadata": {},
   "outputs": [],
   "source": [
    "def plot_ellipse(mean, cov_matrix,color, axes, scale_factor=1):\n",
    "    eH = np.array(None)\n",
    "    cov_matrix = cov_matrix[:2,:2]\n",
    "    mean = mean[0:2]\n",
    "    if(~any(np.diag(cov_matrix)==0)):\n",
    "        eig_values, eig_vectors = np.linalg.eig(cov_matrix)\n",
    "        ellipse = Ellipse(xy=mean, width=eig_values[0]*scale_factor, height=eig_values[1]*scale_factor,\n",
    "                         angle=np.rad2deg(np.arccos(eig_vectors[0,0])), color='black')\n",
    "        axes.add_artist(ellipse)\n",
    "        ellipse.set_clip_box(axes.bbox)\n",
    "        ellipse.set_facecolor('None')\n",
    "        ellipse.set_edgecolor(color)"
   ]
  },
  {
   "cell_type": "code",
   "execution_count": 3,
   "metadata": {},
   "outputs": [],
   "source": [
    "def draw_robot(Xr, col):\n",
    "    p = 0.02\n",
    "    a = np.array([-2, 10, -2, 10])\n",
    "    l1 = (a[1] - a[0]) * p\n",
    "    l2 = (a[3] - a[2]) * p\n",
    "    P = np.array([[-1, 1, 0, -1], [-1, -1, 3, -1]])\n",
    "    theta = Xr[2] - np.pi/2\n",
    "    c = np.cos(theta)[0]\n",
    "    s = np.sin(theta)[0]\n",
    "    rot_mat = np.array([[c, -s], [s, c]])\n",
    "    P = np.matmul(rot_mat, P)\n",
    "    P[0] = P[0] * l1 + Xr[0]\n",
    "    P[1] = P[1] * l2 + Xr[1]\n",
    "    plt.plot(P[0,:],P[1,:], col, linewidth=0.1);\n",
    "    plt.plot(Xr[0], Xr[1], '+' + col);\n",
    "    "
   ]
  },
  {
   "cell_type": "code",
   "execution_count": 4,
   "metadata": {},
   "outputs": [],
   "source": [
    "def differential_model(x, u, dT): \n",
    "    y = np.zeros([3, 1])\n",
    "    if(u[1]== 0):\n",
    "        y[0,0] = x[0] + u[0]*dT*np.cos(x[2])[0]\n",
    "        y[1,0] = x[1] + u[0]*dT*np.sin(x[2])[0]\n",
    "        y[2,0] = x[2];\n",
    "    else:\n",
    "        R=u[0]/u[1]\n",
    "        y[0,0] = x[0] - R*np.sin(x[2])[0] + R*np.sin(x[2]+u[1]*dT)[0]\n",
    "        y[1,0] = x[1] + R*np.cos(x[2])[0] - R*np.cos(x[2]+u[1]*dT)[0]\n",
    "        y[2,0] = x[2] + u[1]*dT;\n",
    "    return y"
   ]
  },
  {
   "cell_type": "markdown",
   "metadata": {},
   "source": [
    "**1.- Forma analítica**. Mover un robot a lo largo del cuadrado del ejercicio 3.1 (8x8 metros), con incrementos de pose de 2 metros, y dibujar la elipse de incertidumbre sobre la pose odométrica (donde cree que está) y también una marca sobre la posición real, generada aleatoriamente a partir de la matriz covarianzas de un ruido gaussiano."
   ]
  },
  {
   "cell_type": "code",
   "execution_count": 20,
   "metadata": {},
   "outputs": [],
   "source": [
    "def circle_path(color, fig):\n",
    "    nSteps = 16\n",
    "    t = np.array([[2], [0]])\n",
    "    ang = -np.pi/2\n",
    "    pose_inc_straight_line = np.array([[2], [0], [0]])\n",
    "    pose_inc_straight_line_and_rotation = np.array([[2],[0],[ang]])\n",
    "    pose = np.array([[0],[0],[np.pi/2]])\n",
    "\n",
    "    fig.suptitle('Pose compositions', fontsize=16)\n",
    "\n",
    "\n",
    "    draw_robot(pose, color)\n",
    "\n",
    "    for k in range(1, nSteps):\n",
    "        if np.mod(k, 4) == 0:\n",
    "            pose = tcomp(pose, pose_inc_straight_line_and_rotation)\n",
    "        else:\n",
    "            pose = tcomp(pose, pose_inc_straight_line);\n",
    "        draw_robot(pose,color);\n",
    "\n",
    "    "
   ]
  },
  {
   "cell_type": "code",
   "execution_count": 21,
   "metadata": {},
   "outputs": [
    {
     "ename": "NameError",
     "evalue": "name 'tcomp' is not defined",
     "output_type": "error",
     "traceback": [
      "\u001b[0;31m---------------------------------------------------------------------------\u001b[0m",
      "\u001b[0;31mNameError\u001b[0m                                 Traceback (most recent call last)",
      "\u001b[0;32m<ipython-input-21-708093f31d39>\u001b[0m in \u001b[0;36m<module>\u001b[0;34m\u001b[0m\n\u001b[1;32m      1\u001b[0m \u001b[0mfig\u001b[0m \u001b[0;34m=\u001b[0m \u001b[0mplt\u001b[0m\u001b[0;34m.\u001b[0m\u001b[0mfigure\u001b[0m\u001b[0;34m(\u001b[0m\u001b[0;34m)\u001b[0m\u001b[0;34m\u001b[0m\u001b[0m\n\u001b[1;32m      2\u001b[0m \u001b[0;34m\u001b[0m\u001b[0m\n\u001b[0;32m----> 3\u001b[0;31m \u001b[0mcircle_path\u001b[0m\u001b[0;34m(\u001b[0m\u001b[0;34m'r'\u001b[0m\u001b[0;34m,\u001b[0m \u001b[0mfig\u001b[0m\u001b[0;34m)\u001b[0m\u001b[0;34m\u001b[0m\u001b[0m\n\u001b[0m",
      "\u001b[0;32m<ipython-input-20-9d64e8013ed6>\u001b[0m in \u001b[0;36mcircle_path\u001b[0;34m(color, fig)\u001b[0m\n\u001b[1;32m     16\u001b[0m             \u001b[0mpose\u001b[0m \u001b[0;34m=\u001b[0m \u001b[0mtcomp\u001b[0m\u001b[0;34m(\u001b[0m\u001b[0mpose\u001b[0m\u001b[0;34m,\u001b[0m \u001b[0mpose_inc_straight_line_and_rotation\u001b[0m\u001b[0;34m)\u001b[0m\u001b[0;34m\u001b[0m\u001b[0m\n\u001b[1;32m     17\u001b[0m         \u001b[0;32melse\u001b[0m\u001b[0;34m:\u001b[0m\u001b[0;34m\u001b[0m\u001b[0m\n\u001b[0;32m---> 18\u001b[0;31m             \u001b[0mpose\u001b[0m \u001b[0;34m=\u001b[0m \u001b[0mtcomp\u001b[0m\u001b[0;34m(\u001b[0m\u001b[0mpose\u001b[0m\u001b[0;34m,\u001b[0m \u001b[0mpose_inc_straight_line\u001b[0m\u001b[0;34m)\u001b[0m\u001b[0;34m;\u001b[0m\u001b[0;34m\u001b[0m\u001b[0m\n\u001b[0m\u001b[1;32m     19\u001b[0m         \u001b[0mdraw_robot\u001b[0m\u001b[0;34m(\u001b[0m\u001b[0mpose\u001b[0m\u001b[0;34m,\u001b[0m\u001b[0mcolor\u001b[0m\u001b[0;34m)\u001b[0m\u001b[0;34m;\u001b[0m\u001b[0;34m\u001b[0m\u001b[0m\n\u001b[1;32m     20\u001b[0m \u001b[0;34m\u001b[0m\u001b[0m\n",
      "\u001b[0;31mNameError\u001b[0m: name 'tcomp' is not defined"
     ]
    },
    {
     "data": {
      "image/png": "[encoded data removed]",
      "text/plain": [
       "<Figure size 432x288 with 1 Axes>"
      ]
     },
     "metadata": {
      "needs_background": "light"
     },
     "output_type": "display_data"
    }
   ],
   "source": [
    "fig = plt.figure()\n",
    "\n",
    "circle_path('r', fig)"
   ]
  },
  {
   "cell_type": "code",
   "execution_count": null,
   "metadata": {},
   "outputs": [],
   "source": []
  },
  {
   "cell_type": "code",
   "execution_count": null,
   "metadata": {},
   "outputs": [],
   "source": []
  }
 ],
 "metadata": {
  "kernelspec": {
   "display_name": "Python 3",
   "language": "python",
   "name": "python3"
  },
  "language_info": {
   "codemirror_mode": {
    "name": "ipython",
    "version": 3
   },
   "file_extension": ".py",
   "mimetype": "text/x-python",
   "name": "python",
   "nbconvert_exporter": "python",
   "pygments_lexer": "ipython3",
   "version": "3.6.6"
  }
 },
 "nbformat": 4,
 "nbformat_minor": 2
}
